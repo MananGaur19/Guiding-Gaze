{
 "cells": [
  {
   "cell_type": "code",
   "execution_count": null,
   "id": "e8af6e5a-1e73-4602-afa2-754d9d214320",
   "metadata": {
    "tags": []
   },
   "outputs": [],
   "source": [
    "import cv2\n",
    "import numpy as np\n",
    "from playsound import playsound\n",
    "\n",
    "cap = cv2.VideoCapture(1)\n",
    "\n",
    "while cap.isOpened():\n",
    "    ret, frame = cap.read()\n",
    "\n",
    "    #to grayscale\n",
    "    gray = cv2.cvtColor(frame, cv2.COLOR_BGR2GRAY)\n",
    "\n",
    "    #Gaussian blur\n",
    "    blurred = cv2.GaussianBlur(gray, (5, 5), 0)\n",
    "\n",
    "    #adaptive thresholding\n",
    "    adaptive_threshold = cv2.adaptiveThreshold(\n",
    "        blurred, 255, cv2.ADAPTIVE_THRESH_MEAN_C, cv2.THRESH_BINARY, 11, 2\n",
    "    )\n",
    "\n",
    "    # Find contours in the thresholded image\n",
    "    contours, _ = cv2.findContours(\n",
    "        adaptive_threshold, cv2.RETR_EXTERNAL, cv2.CHAIN_APPROX_SIMPLE\n",
    "    )\n",
    "# Filter contours based on area\n",
    "    min_contour_area = 1000  # Adjust as needed\n",
    "    contours = [cnt for cnt in contours if cv2.contourArea(cnt) > min_contour_area]\n",
    "\n",
    "    total_area = frame.shape[0] * frame.shape[1]\n",
    "\n",
    "    change_area = sum(cv2.contourArea(cnt) for cnt in contours)\n",
    "\n",
    "    percentage = (change_area / total_area) * 100\n",
    "    print(percentage)\n",
    "\n",
    "    threshold_percentage = 98  # Adjust this value as needed\n",
    "\n",
    "    if percentage > threshold_percentage:\n",
    "        print(f\"Detected changes occupy more than {threshold_percentage}% of the screen. Possible wall detected.\")\n",
    "        playsound('w.mp3')\n",
    "        \n",
    "    text = f\"Percentage: {percentage:.2f}%\"\n",
    "    cv2.putText(\n",
    "        adaptive_threshold,\n",
    "        text,\n",
    "        (100, 30),\n",
    "        cv2.FONT_HERSHEY_SIMPLEX,\n",
    "        0.5,\n",
    "        (255,0,0),\n",
    "        1,\n",
    "        cv2.LINE_AA,\n",
    "    )\n",
    "    cv2.imshow('Adaptive Threshold', adaptive_threshold)\n",
    "\n",
    "    if cv2.waitKey(10) & 0xFF == ord('q'):\n",
    "        break\n",
    "\n",
    "cap.release()\n",
    "cv2.destroyAllWindows()"
   ]
  },
  {
   "cell_type": "code",
   "execution_count": null,
   "id": "843e6ac9-8ee2-44aa-8cd6-5a050ad61eb4",
   "metadata": {},
   "outputs": [],
   "source": []
  }
 ],
 "metadata": {
  "kernelspec": {
   "display_name": "Python 3 (ipykernel)",
   "language": "python",
   "name": "python3"
  },
  "language_info": {
   "codemirror_mode": {
    "name": "ipython",
    "version": 3
   },
   "file_extension": ".py",
   "mimetype": "text/x-python",
   "name": "python",
   "nbconvert_exporter": "python",
   "pygments_lexer": "ipython3",
   "version": "3.8.10"
  }
 },
 "nbformat": 4,
 "nbformat_minor": 5
}
