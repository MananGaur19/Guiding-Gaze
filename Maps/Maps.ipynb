{
 "cells": [
  {
   "cell_type": "code",
   "execution_count": null,
   "id": "33aba529",
   "metadata": {},
   "outputs": [],
   "source": [
    "import requests\n",
    "import geocoder\n",
    "import speech_recognition as sr\n",
    "import pyttsx3 \n",
    "from gtts import gTTS\n",
    "from playsound import playsound"
   ]
  },
  {
   "cell_type": "code",
   "execution_count": null,
   "id": "d0dfac3a",
   "metadata": {},
   "outputs": [],
   "source": [
    "def dir(b):\n",
    "    g = geocoder.ip('me')\n",
    "    a=g.latlng\n",
    "    api_key = 'WWpb8zRzaMNeypux0fKKQgky3IjIV496'\n",
    "    url = 'https://www.mapquestapi.com/directions/v2/route'\n",
    "    origin = 13.347374, 74.792640\n",
    "    destination = 13.3440142,74.7922199\n",
    "    params = {\n",
    "        'key': api_key,\n",
    "        'from': origin,\n",
    "        'to': destination,\n",
    "    }\n",
    "    response = requests.get(url, params=params)\n",
    "    data = response.json()\n",
    "    if response.status_code == 200:\n",
    "        route = data['route']\n",
    "        print(route)\n",
    "        print(f\"Distance: {route['distance']} miles\")\n",
    "        print(f\"Duration: {route['formattedTime']}\")\n",
    "    else:\n",
    "        print(f\"Error: {data['info']['messages'][0]}\")\n",
    "    return route"
   ]
  },
  {
   "cell_type": "code",
   "execution_count": null,
   "id": "772911f9",
   "metadata": {},
   "outputs": [],
   "source": [
    "def text_to_speech(text,filename,language='en'):\n",
    "    tts = gTTS(text=text, lang=language, slow=False)\n",
    "    tts.save(filename)\n",
    "    playsound(filename)"
   ]
  },
  {
   "cell_type": "code",
   "execution_count": null,
   "id": "6e936e11",
   "metadata": {},
   "outputs": [],
   "source": [
    "r = sr.Recognizer() \n",
    "while True:\n",
    "    try:\n",
    "        with sr.Microphone() as source2:\n",
    "            r.adjust_for_ambient_noise(source2, duration=0.2)\n",
    "            audio2 = r.listen(source2)\n",
    "            MyText = r.recognize_google(audio2)\n",
    "            MyText = MyText.lower()\n",
    "            print(MyText)\n",
    "            if MyText:\n",
    "                data=dir(MyText)\n",
    "                break\n",
    "    except sr.RequestError as e:\n",
    "        print(\"Could not request results; {0}\".format(e))\n",
    "    except sr.UnknownValueError:\n",
    "        print(\"unknown error occurred\")\n",
    "text = data['legs'][0]['maneuvers'][0]['narrative']\n",
    "start_index = text.find(\"Go for \") + len(\"Go for \")\n",
    "end_index = text.find(\" mi.\", start_index)\n",
    "if start_index != -1 and end_index != -1:\n",
    "    distance_str = text[start_index:end_index]\n",
    "    extracted_number = float(distance_str)\n",
    "    di=(extracted_number*60)//2\n",
    "    updated_text = f\"{text} This will take approximately {di} minutes.\"\n",
    "    text_to_speech(updated_text,'tr.mp3')"
   ]
  },
  {
   "cell_type": "code",
   "execution_count": null,
   "id": "5d52c0d1",
   "metadata": {},
   "outputs": [],
   "source": []
  }
 ],
 "metadata": {
  "kernelspec": {
   "display_name": "Python 3 (ipykernel)",
   "language": "python",
   "name": "python3"
  },
  "language_info": {
   "codemirror_mode": {
    "name": "ipython",
    "version": 3
   },
   "file_extension": ".py",
   "mimetype": "text/x-python",
   "name": "python",
   "nbconvert_exporter": "python",
   "pygments_lexer": "ipython3",
   "version": "3.10.10"
  }
 },
 "nbformat": 4,
 "nbformat_minor": 5
}
