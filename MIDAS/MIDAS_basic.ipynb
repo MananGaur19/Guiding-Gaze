{
 "cells": [
  {
   "cell_type": "code",
   "execution_count": null,
   "id": "f85d1164",
   "metadata": {
    "tags": []
   },
   "outputs": [],
   "source": [
    "import cv2\n",
    "import torch\n",
    "import matplotlib.pyplot as plt \n",
    "\n",
    "midas = torch.hub.load('intel-isl/MiDaS', 'MiDaS_small')\n",
    "midas.to('cpu')\n",
    "midas.eval()\n",
    "\n",
    "transforms = torch.hub.load('intel-isl/MiDaS', 'transforms')\n",
    "transform = transforms.small_transform \n",
    "\n",
    "cap = cv2.VideoCapture(0) #0 for webcam\n",
    "while cap.isOpened(): \n",
    "    ret, frame = cap.read()\n",
    "\n",
    "    img = cv2.cvtColor(frame, cv2.COLOR_BGR2RGB)\n",
    "    imgbatch = transform(img).to('cpu')\n",
    "\n",
    "    with torch.no_grad(): \n",
    "        prediction = midas(imgbatch)\n",
    "        prediction = torch.nn.functional.interpolate(\n",
    "            prediction.unsqueeze(1),\n",
    "            size = img.shape[:2], \n",
    "            mode='bicubic', \n",
    "            align_corners=False\n",
    "        ).squeeze()\n",
    "\n",
    "        output = prediction.cpu().numpy()\n",
    "\n",
    "        print(output)\n",
    "    plt.imshow(output)\n",
    "    cv2.imshow('CV2Frame', frame)\n",
    "    cv2.imshow('depth',output)\n",
    "    plt.pause(0.00001)\n",
    "\n",
    "    if cv2.waitKey(10) & 0xFF == ord('q'): \n",
    "        cap.release()\n",
    "        cv2.destroyAllWindows()\n",
    "\n",
    "plt.show()"
   ]
  },
  {
   "cell_type": "code",
   "execution_count": null,
   "id": "6fe6f502",
   "metadata": {},
   "outputs": [],
   "source": []
  }
 ],
 "metadata": {
  "kernelspec": {
   "display_name": "Python 3 (ipykernel)",
   "language": "python",
   "name": "python3"
  },
  "language_info": {
   "codemirror_mode": {
    "name": "ipython",
    "version": 3
   },
   "file_extension": ".py",
   "mimetype": "text/x-python",
   "name": "python",
   "nbconvert_exporter": "python",
   "pygments_lexer": "ipython3",
   "version": "3.8.10"
  }
 },
 "nbformat": 4,
 "nbformat_minor": 5
}
