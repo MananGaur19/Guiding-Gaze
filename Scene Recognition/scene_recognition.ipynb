{
 "cells": [
  {
   "cell_type": "code",
   "execution_count": 1,
   "id": "1f0bf5b6",
   "metadata": {
    "_cell_guid": "b1076dfc-b9ad-4769-8c92-a6c4dae69d19",
    "_uuid": "8f2839f25d086af736a60e9eeb907d3b93b6e0e5",
    "execution": {
     "iopub.execute_input": "2023-11-14T07:39:54.317732Z",
     "iopub.status.busy": "2023-11-14T07:39:54.316886Z",
     "iopub.status.idle": "2023-11-14T07:39:55.000712Z",
     "shell.execute_reply": "2023-11-14T07:39:54.999797Z"
    },
    "papermill": {
     "duration": 0.694757,
     "end_time": "2023-11-14T07:39:55.002766",
     "exception": false,
     "start_time": "2023-11-14T07:39:54.308009",
     "status": "completed"
    },
    "tags": []
   },
   "outputs": [
    {
     "data": {
      "text/plain": [
       "\"\\nfor dirname, _, filenames in os.walk('/kaggle/input'):\\n    for filename in filenames:\\n        print(os.path.join(dirname, filename))\\n\""
      ]
     },
     "execution_count": 1,
     "metadata": {},
     "output_type": "execute_result"
    }
   ],
   "source": [
    "# This Python 3 environment comes with many helpful analytics libraries installed\n",
    "# It is defined by the kaggle/python Docker image: https://github.com/kaggle/docker-python\n",
    "# For example, here's several helpful packages to load\n",
    "\n",
    "import numpy as np # linear algebra\n",
    "import pandas as pd # data processing, CSV file I/O (e.g. pd.read_csv)\n",
    "import matplotlib.pyplot as plt\n",
    "# Input data files are available in the read-only \"../input/\" directory\n",
    "# For example, running this (by clicking run or pressing Shift+Enter) will list all files under the input directory\n",
    "\n",
    "import os\n",
    "\"\"\"\n",
    "for dirname, _, filenames in os.walk('/kaggle/input'):\n",
    "    for filename in filenames:\n",
    "        print(os.path.join(dirname, filename))\n",
    "\"\"\"\n",
    "# You can write up to 20GB to the current directory (/kaggle/working/) that gets preserved as output when you create a version using \"Save & Run All\" \n",
    "# You can also write temporary files to /kaggle/temp/, but they won't be saved outside of the current session"
   ]
  },
  {
   "cell_type": "code",
   "execution_count": 2,
   "id": "63506a81",
   "metadata": {
    "execution": {
     "iopub.execute_input": "2023-11-14T07:39:55.018564Z",
     "iopub.status.busy": "2023-11-14T07:39:55.018211Z",
     "iopub.status.idle": "2023-11-14T07:39:55.022222Z",
     "shell.execute_reply": "2023-11-14T07:39:55.021383Z"
    },
    "papermill": {
     "duration": 0.014086,
     "end_time": "2023-11-14T07:39:55.024177",
     "exception": false,
     "start_time": "2023-11-14T07:39:55.010091",
     "status": "completed"
    },
    "tags": []
   },
   "outputs": [],
   "source": [
    "from PIL import Image\n",
    "import shutil"
   ]
  },
  {
   "cell_type": "code",
   "execution_count": 3,
   "id": "c2584792",
   "metadata": {
    "execution": {
     "iopub.execute_input": "2023-11-14T07:39:55.039251Z",
     "iopub.status.busy": "2023-11-14T07:39:55.038989Z",
     "iopub.status.idle": "2023-11-14T07:39:55.043943Z",
     "shell.execute_reply": "2023-11-14T07:39:55.043170Z"
    },
    "papermill": {
     "duration": 0.014654,
     "end_time": "2023-11-14T07:39:55.045832",
     "exception": false,
     "start_time": "2023-11-14T07:39:55.031178",
     "status": "completed"
    },
    "tags": []
   },
   "outputs": [],
   "source": [
    "def gen(path,i):\n",
    "    X=[]\n",
    "    Y=[]\n",
    "    n=os.listdir(path)\n",
    "    for p in n:\n",
    "        img=Image.open(path+'/'+p)\n",
    "        img=np.array(img)\n",
    "        X.append(img)\n",
    "        Y.append(i)\n",
    "    return X,Y"
   ]
  },
  {
   "cell_type": "code",
   "execution_count": 4,
   "id": "6b08f9b8",
   "metadata": {
    "execution": {
     "iopub.execute_input": "2023-11-14T07:39:55.061199Z",
     "iopub.status.busy": "2023-11-14T07:39:55.060936Z",
     "iopub.status.idle": "2023-11-14T07:39:55.064755Z",
     "shell.execute_reply": "2023-11-14T07:39:55.063986Z"
    },
    "papermill": {
     "duration": 0.01353,
     "end_time": "2023-11-14T07:39:55.066590",
     "exception": false,
     "start_time": "2023-11-14T07:39:55.053060",
     "status": "completed"
    },
    "tags": []
   },
   "outputs": [],
   "source": [
    "os.makedirs('data')"
   ]
  },
  {
   "cell_type": "code",
   "execution_count": 5,
   "id": "3649cc82",
   "metadata": {
    "execution": {
     "iopub.execute_input": "2023-11-14T07:39:55.081721Z",
     "iopub.status.busy": "2023-11-14T07:39:55.081426Z",
     "iopub.status.idle": "2023-11-14T07:39:55.086802Z",
     "shell.execute_reply": "2023-11-14T07:39:55.085993Z"
    },
    "papermill": {
     "duration": 0.015033,
     "end_time": "2023-11-14T07:39:55.088607",
     "exception": false,
     "start_time": "2023-11-14T07:39:55.073574",
     "status": "completed"
    },
    "tags": []
   },
   "outputs": [],
   "source": [
    "srcs=[\n",
    "    ('/kaggle/input/places2-mit-dataset/train_256_places365standard/data_256/b/balcony/interior','balcony'),\n",
    "    ('/kaggle/input/places2-mit-dataset/train_256_places365standard/data_256/b/bathroom','bathroom'),\n",
    "    ('/kaggle/input/places2-mit-dataset/train_256_places365standard/data_256/b/bedroom','bedroom'),\n",
    "    ('/kaggle/input/places2-mit-dataset/train_256_places365standard/data_256/b/boardwalk','boardwalk'),\n",
    "    ('/kaggle/input/places2-mit-dataset/train_256_places365standard/data_256/c/construction_site','site'),\n",
    "    ('/kaggle/input/places2-mit-dataset/train_256_places365standard/data_256/g/garage/indoor','garage'),\n",
    "    ('/kaggle/input/places2-mit-dataset/train_256_places365standard/data_256/h/highway','highway'),\n",
    "    ('/kaggle/input/places2-mit-dataset/train_256_places365standard/data_256/k/kitchen','kitchen'),\n",
    "    ('/kaggle/input/places2-mit-dataset/train_256_places365standard/data_256/l/lake/natural','lake'),\n",
    "    ('/kaggle/input/places2-mit-dataset/train_256_places365standard/data_256/m/market/outdoor','market'),\n",
    "    ('/kaggle/input/places2-mit-dataset/train_256_places365standard/data_256/t/train_station/platform','train'),\n",
    "    ('/kaggle/input/places2-mit-dataset/train_256_places365standard/data_256/s/street','street'),\n",
    "]"
   ]
  },
  {
   "cell_type": "code",
   "execution_count": 6,
   "id": "5c4f543e",
   "metadata": {
    "execution": {
     "iopub.execute_input": "2023-11-14T07:39:55.103818Z",
     "iopub.status.busy": "2023-11-14T07:39:55.103517Z",
     "iopub.status.idle": "2023-11-14T07:39:55.107245Z",
     "shell.execute_reply": "2023-11-14T07:39:55.106298Z"
    },
    "papermill": {
     "duration": 0.013517,
     "end_time": "2023-11-14T07:39:55.109212",
     "exception": false,
     "start_time": "2023-11-14T07:39:55.095695",
     "status": "completed"
    },
    "tags": []
   },
   "outputs": [],
   "source": [
    "des='/kaggle/working/data'\n",
    "#os.makedirs(des,dirs_exist_ok=True)"
   ]
  },
  {
   "cell_type": "code",
   "execution_count": 7,
   "id": "dec8d2d5",
   "metadata": {
    "execution": {
     "iopub.execute_input": "2023-11-14T07:39:55.124309Z",
     "iopub.status.busy": "2023-11-14T07:39:55.124053Z",
     "iopub.status.idle": "2023-11-14T07:46:26.250798Z",
     "shell.execute_reply": "2023-11-14T07:46:26.249788Z"
    },
    "papermill": {
     "duration": 391.137083,
     "end_time": "2023-11-14T07:46:26.253358",
     "exception": false,
     "start_time": "2023-11-14T07:39:55.116275",
     "status": "completed"
    },
    "tags": []
   },
   "outputs": [],
   "source": [
    "for source_folder,folder_name in srcs:\n",
    "    dest = os.path.join(des, folder_name)\n",
    "    shutil.copytree(source_folder, dest, dirs_exist_ok=True)"
   ]
  },
  {
   "cell_type": "code",
   "execution_count": 8,
   "id": "fce44987",
   "metadata": {
    "execution": {
     "iopub.execute_input": "2023-11-14T07:46:26.269538Z",
     "iopub.status.busy": "2023-11-14T07:46:26.269225Z",
     "iopub.status.idle": "2023-11-14T07:46:26.275013Z",
     "shell.execute_reply": "2023-11-14T07:46:26.274183Z"
    },
    "papermill": {
     "duration": 0.015995,
     "end_time": "2023-11-14T07:46:26.276859",
     "exception": false,
     "start_time": "2023-11-14T07:46:26.260864",
     "status": "completed"
    },
    "tags": []
   },
   "outputs": [
    {
     "data": {
      "text/plain": [
       "12"
      ]
     },
     "execution_count": 8,
     "metadata": {},
     "output_type": "execute_result"
    }
   ],
   "source": [
    "len(os.listdir(des))"
   ]
  },
  {
   "cell_type": "code",
   "execution_count": 9,
   "id": "0d3f77fc",
   "metadata": {
    "execution": {
     "iopub.execute_input": "2023-11-14T07:46:26.292623Z",
     "iopub.status.busy": "2023-11-14T07:46:26.292043Z",
     "iopub.status.idle": "2023-11-14T07:46:26.297949Z",
     "shell.execute_reply": "2023-11-14T07:46:26.297156Z"
    },
    "papermill": {
     "duration": 0.015849,
     "end_time": "2023-11-14T07:46:26.299764",
     "exception": false,
     "start_time": "2023-11-14T07:46:26.283915",
     "status": "completed"
    },
    "tags": []
   },
   "outputs": [
    {
     "data": {
      "text/plain": [
       "['bedroom',\n",
       " 'market',\n",
       " 'balcony',\n",
       " 'train',\n",
       " 'bathroom',\n",
       " 'site',\n",
       " 'street',\n",
       " 'lake',\n",
       " 'boardwalk',\n",
       " 'garage',\n",
       " 'highway',\n",
       " 'kitchen']"
      ]
     },
     "execution_count": 9,
     "metadata": {},
     "output_type": "execute_result"
    }
   ],
   "source": [
    "os.listdir(des)"
   ]
  },
  {
   "cell_type": "code",
   "execution_count": 10,
   "id": "3ec3bf12",
   "metadata": {
    "execution": {
     "iopub.execute_input": "2023-11-14T07:46:26.316496Z",
     "iopub.status.busy": "2023-11-14T07:46:26.316242Z",
     "iopub.status.idle": "2023-11-14T07:46:26.320686Z",
     "shell.execute_reply": "2023-11-14T07:46:26.319858Z"
    },
    "papermill": {
     "duration": 0.014689,
     "end_time": "2023-11-14T07:46:26.322739",
     "exception": false,
     "start_time": "2023-11-14T07:46:26.308050",
     "status": "completed"
    },
    "tags": []
   },
   "outputs": [],
   "source": [
    "def find_empty_folders(directory):\n",
    "    empty_folders = []\n",
    "\n",
    "    for root, dirs, files in os.walk(directory):\n",
    "        if not dirs and not files:\n",
    "            empty_folders.append(root)\n",
    "\n",
    "    return empty_folders"
   ]
  },
  {
   "cell_type": "code",
   "execution_count": 11,
   "id": "acfe3173",
   "metadata": {
    "execution": {
     "iopub.execute_input": "2023-11-14T07:46:26.338484Z",
     "iopub.status.busy": "2023-11-14T07:46:26.338233Z",
     "iopub.status.idle": "2023-11-14T07:46:26.407413Z",
     "shell.execute_reply": "2023-11-14T07:46:26.406642Z"
    },
    "papermill": {
     "duration": 0.079086,
     "end_time": "2023-11-14T07:46:26.409225",
     "exception": false,
     "start_time": "2023-11-14T07:46:26.330139",
     "status": "completed"
    },
    "tags": []
   },
   "outputs": [],
   "source": [
    "empty_folders = find_empty_folders(des)"
   ]
  },
  {
   "cell_type": "code",
   "execution_count": 12,
   "id": "9cec9f09",
   "metadata": {
    "execution": {
     "iopub.execute_input": "2023-11-14T07:46:26.424722Z",
     "iopub.status.busy": "2023-11-14T07:46:26.424443Z",
     "iopub.status.idle": "2023-11-14T07:46:26.429010Z",
     "shell.execute_reply": "2023-11-14T07:46:26.428143Z"
    },
    "papermill": {
     "duration": 0.014537,
     "end_time": "2023-11-14T07:46:26.430992",
     "exception": false,
     "start_time": "2023-11-14T07:46:26.416455",
     "status": "completed"
    },
    "tags": []
   },
   "outputs": [
    {
     "name": "stdout",
     "output_type": "stream",
     "text": [
      "Empty folders in /kaggle/working/data: []\n"
     ]
    }
   ],
   "source": [
    "print(\"Empty folders in {}: {}\".format(des, empty_folders))"
   ]
  },
  {
   "cell_type": "code",
   "execution_count": 13,
   "id": "8dc54fbe",
   "metadata": {
    "execution": {
     "iopub.execute_input": "2023-11-14T07:46:26.446582Z",
     "iopub.status.busy": "2023-11-14T07:46:26.446304Z",
     "iopub.status.idle": "2023-11-14T07:46:38.698771Z",
     "shell.execute_reply": "2023-11-14T07:46:38.697889Z"
    },
    "papermill": {
     "duration": 12.26279,
     "end_time": "2023-11-14T07:46:38.701120",
     "exception": false,
     "start_time": "2023-11-14T07:46:26.438330",
     "status": "completed"
    },
    "tags": []
   },
   "outputs": [
    {
     "name": "stderr",
     "output_type": "stream",
     "text": [
      "/opt/conda/lib/python3.10/site-packages/scipy/__init__.py:146: UserWarning: A NumPy version >=1.16.5 and <1.23.0 is required for this version of SciPy (detected version 1.24.3\n",
      "  warnings.warn(f\"A NumPy version >={np_minversion} and <{np_maxversion}\"\n"
     ]
    }
   ],
   "source": [
    "import tensorflow as tf\n",
    "import seaborn as sns\n",
    "from tensorflow.keras import layers\n",
    "from tensorflow.keras import mixed_precision\n",
    "mixed_precision.set_global_policy(\"float32\")"
   ]
  },
  {
   "cell_type": "code",
   "execution_count": 14,
   "id": "a29c3416",
   "metadata": {
    "execution": {
     "iopub.execute_input": "2023-11-14T07:46:38.718504Z",
     "iopub.status.busy": "2023-11-14T07:46:38.717504Z",
     "iopub.status.idle": "2023-11-14T07:46:51.574358Z",
     "shell.execute_reply": "2023-11-14T07:46:51.573402Z"
    },
    "papermill": {
     "duration": 12.867775,
     "end_time": "2023-11-14T07:46:51.576688",
     "exception": false,
     "start_time": "2023-11-14T07:46:38.708913",
     "status": "completed"
    },
    "tags": []
   },
   "outputs": [
    {
     "name": "stdout",
     "output_type": "stream",
     "text": [
      "Collecting split_folders\r\n",
      "  Downloading split_folders-0.5.1-py3-none-any.whl (8.4 kB)\r\n",
      "Installing collected packages: split_folders\r\n",
      "Successfully installed split_folders-0.5.1\r\n"
     ]
    }
   ],
   "source": [
    "!pip install split_folders\n",
    "import splitfolders"
   ]
  },
  {
   "cell_type": "code",
   "execution_count": 15,
   "id": "227020b0",
   "metadata": {
    "execution": {
     "iopub.execute_input": "2023-11-14T07:46:51.593805Z",
     "iopub.status.busy": "2023-11-14T07:46:51.593505Z",
     "iopub.status.idle": "2023-11-14T07:47:00.523828Z",
     "shell.execute_reply": "2023-11-14T07:47:00.522797Z"
    },
    "papermill": {
     "duration": 8.941188,
     "end_time": "2023-11-14T07:47:00.525845",
     "exception": false,
     "start_time": "2023-11-14T07:46:51.584657",
     "status": "completed"
    },
    "tags": []
   },
   "outputs": [
    {
     "name": "stderr",
     "output_type": "stream",
     "text": [
      "Copying files: 60000 files [00:08, 6726.60 files/s]\n"
     ]
    }
   ],
   "source": [
    "os.makedirs('output')\n",
    "os.makedirs('output/train')\n",
    "os.makedirs('output/val')\n",
    "os.makedirs('output/test')\n",
    "splitfolders.ratio(des,output = \"output\",seed = 42,ratio = (0.80,.1,.1))"
   ]
  },
  {
   "cell_type": "code",
   "execution_count": 16,
   "id": "cabec8d8",
   "metadata": {
    "execution": {
     "iopub.execute_input": "2023-11-14T07:47:00.556133Z",
     "iopub.status.busy": "2023-11-14T07:47:00.555823Z",
     "iopub.status.idle": "2023-11-14T07:47:09.067925Z",
     "shell.execute_reply": "2023-11-14T07:47:09.067168Z"
    },
    "papermill": {
     "duration": 8.529807,
     "end_time": "2023-11-14T07:47:09.070139",
     "exception": false,
     "start_time": "2023-11-14T07:47:00.540332",
     "status": "completed"
    },
    "tags": []
   },
   "outputs": [
    {
     "name": "stdout",
     "output_type": "stream",
     "text": [
      "Found 48000 files belonging to 12 classes.\n",
      "Found 6000 files belonging to 12 classes.\n",
      "Found 6000 files belonging to 12 classes.\n"
     ]
    }
   ],
   "source": [
    "from tensorflow.keras.preprocessing import image_dataset_from_directory\n",
    "train_dir=\"./output/train\"\n",
    "test_dir=\"./output/test\"\n",
    "val_dir=\"./output/val\"\n",
    "train_data=image_dataset_from_directory(train_dir,batch_size=32,image_size=(224,224),label_mode='categorical',shuffle=True,seed=42)\n",
    "test_data=image_dataset_from_directory(test_dir,batch_size=32,image_size=(224,224),label_mode='categorical',shuffle=False,seed=42)\n",
    "val_data=image_dataset_from_directory(val_dir,batch_size=32,image_size=(224,224),label_mode='categorical',shuffle=False,seed=42)"
   ]
  },
  {
   "cell_type": "code",
   "execution_count": 17,
   "id": "ec3df787",
   "metadata": {
    "execution": {
     "iopub.execute_input": "2023-11-14T07:47:09.100328Z",
     "iopub.status.busy": "2023-11-14T07:47:09.100038Z",
     "iopub.status.idle": "2023-11-14T07:47:29.224365Z",
     "shell.execute_reply": "2023-11-14T07:47:29.222684Z"
    },
    "papermill": {
     "duration": 20.142419,
     "end_time": "2023-11-14T07:47:29.227006",
     "exception": false,
     "start_time": "2023-11-14T07:47:09.084587",
     "status": "completed"
    },
    "tags": []
   },
   "outputs": [
    {
     "name": "stdout",
     "output_type": "stream",
     "text": [
      "Class: balcony, Number of Images: 4000\n",
      "Class: bathroom, Number of Images: 4000\n",
      "Class: bedroom, Number of Images: 4000\n",
      "Class: boardwalk, Number of Images: 4000\n",
      "Class: garage, Number of Images: 4000\n",
      "Class: highway, Number of Images: 4000\n",
      "Class: kitchen, Number of Images: 4000\n",
      "Class: lake, Number of Images: 4000\n",
      "Class: market, Number of Images: 4000\n",
      "Class: site, Number of Images: 4000\n",
      "Class: street, Number of Images: 4000\n",
      "Class: train, Number of Images: 4000\n"
     ]
    }
   ],
   "source": [
    "class_names = train_data.class_names\n",
    "class_image_counts = {class_name: 0 for class_name in class_names}\n",
    "for images, labels in train_data:\n",
    "    for label in labels.numpy():\n",
    "        class_name = class_names[label.argmax()]\n",
    "        class_image_counts[class_name] += 1\n",
    "for class_name, count in class_image_counts.items():\n",
    "    print(f\"Class: {class_name}, Number of Images: {count}\")"
   ]
  },
  {
   "cell_type": "code",
   "execution_count": 18,
   "id": "182df96f",
   "metadata": {
    "execution": {
     "iopub.execute_input": "2023-11-14T07:47:29.262205Z",
     "iopub.status.busy": "2023-11-14T07:47:29.261452Z",
     "iopub.status.idle": "2023-11-14T07:47:29.271821Z",
     "shell.execute_reply": "2023-11-14T07:47:29.270766Z"
    },
    "papermill": {
     "duration": 0.030737,
     "end_time": "2023-11-14T07:47:29.274433",
     "exception": false,
     "start_time": "2023-11-14T07:47:29.243696",
     "status": "completed"
    },
    "tags": []
   },
   "outputs": [
    {
     "name": "stdout",
     "output_type": "stream",
     "text": [
      "12\n",
      "['balcony', 'bathroom', 'bedroom', 'boardwalk', 'garage', 'highway', 'kitchen', 'lake', 'market', 'site', 'street', 'train']\n"
     ]
    }
   ],
   "source": [
    "class_names=train_data.class_names\n",
    "class_count=len(class_names)\n",
    "print(len(class_names))\n",
    "print(class_names)\n",
    "train_data = train_data.prefetch(buffer_size = tf.data.AUTOTUNE)\n",
    "test_data = test_data.prefetch(buffer_size = tf.data.AUTOTUNE)\n",
    "val_data = val_data.prefetch(buffer_size = tf.data.AUTOTUNE)"
   ]
  },
  {
   "cell_type": "code",
   "execution_count": 19,
   "id": "bcbde072",
   "metadata": {
    "execution": {
     "iopub.execute_input": "2023-11-14T07:47:29.312322Z",
     "iopub.status.busy": "2023-11-14T07:47:29.311400Z",
     "iopub.status.idle": "2023-11-14T07:47:32.939552Z",
     "shell.execute_reply": "2023-11-14T07:47:32.938765Z"
    },
    "papermill": {
     "duration": 3.648429,
     "end_time": "2023-11-14T07:47:32.941941",
     "exception": false,
     "start_time": "2023-11-14T07:47:29.293512",
     "status": "completed"
    },
    "tags": []
   },
   "outputs": [
    {
     "name": "stdout",
     "output_type": "stream",
     "text": [
      "Downloading data from https://storage.googleapis.com/keras-applications/efficientnetb2_notop.h5\n",
      "31790344/31790344 [==============================] - 0s 0us/step\n"
     ]
    }
   ],
   "source": [
    "from tensorflow.keras.layers import Dense,Activation,Dropout,Conv2D,MaxPooling2D,BatchNormalization,Flatten\n",
    "from tensorflow.keras import regularizers\n",
    "from tensorflow.keras.models import Model, load_model, Sequential\n",
    "model_name='EfficientNetB2'\n",
    "base_model=tf.keras.applications.EfficientNetB2(include_top=False, weights=\"imagenet\",input_shape=(224,224,3), pooling='max') \n",
    "x=base_model.output\n",
    "#x=layers.GlobalAvgPool2D(name = \"pooling_layer\")(x)\n",
    "x=tf.keras.layers.BatchNormalization(axis=-1, momentum=0.99, epsilon=0.001 )(x)\n",
    "x=Dense(256, kernel_regularizer = regularizers.l2(l = 0.016),activity_regularizer=regularizers.l1(0.006),\n",
    "                bias_regularizer=regularizers.l1(0.006) ,activation='relu')(x)\n",
    "x=Dense(128, kernel_regularizer = regularizers.l2(l = 0.016),activity_regularizer=regularizers.l1(0.006),\n",
    "                bias_regularizer=regularizers.l1(0.006) ,activation='relu')(x)\n",
    "x=Dropout(rate=.45, seed=42)(x)        \n",
    "output=Dense(class_count, activation='softmax')(x)\n",
    "model=Model(inputs=base_model.input, outputs=output)\n",
    "model.compile(tf.keras.optimizers.Adamax(lr=.001), loss='categorical_crossentropy', metrics=['accuracy']) "
   ]
  },
  {
   "cell_type": "code",
   "execution_count": 20,
   "id": "3a92b7f0",
   "metadata": {
    "execution": {
     "iopub.execute_input": "2023-11-14T07:47:32.974585Z",
     "iopub.status.busy": "2023-11-14T07:47:32.974297Z",
     "iopub.status.idle": "2023-11-14T09:07:44.845539Z",
     "shell.execute_reply": "2023-11-14T09:07:44.844526Z"
    },
    "papermill": {
     "duration": 4811.890153,
     "end_time": "2023-11-14T09:07:44.847823",
     "exception": false,
     "start_time": "2023-11-14T07:47:32.957670",
     "status": "completed"
    },
    "tags": []
   },
   "outputs": [
    {
     "name": "stdout",
     "output_type": "stream",
     "text": [
      "Epoch 1/10\n"
     ]
    },
    {
     "name": "stderr",
     "output_type": "stream",
     "text": [
      "2023-11-14 07:47:54.569519: E tensorflow/core/grappler/optimizers/meta_optimizer.cc:954] layout failed: INVALID_ARGUMENT: Size of values 0 does not match size of permutation 4 @ fanin shape inmodel/block1b_drop/dropout/SelectV2-2-TransposeNHWCToNCHW-LayoutOptimizer\n"
     ]
    },
    {
     "name": "stdout",
     "output_type": "stream",
     "text": [
      "1500/1500 [==============================] - 538s 320ms/step - loss: 3.4904 - accuracy: 0.8254 - val_loss: 0.8482 - val_accuracy: 0.9082\n",
      "Epoch 2/10\n",
      "1500/1500 [==============================] - 473s 315ms/step - loss: 0.7195 - accuracy: 0.9090 - val_loss: 0.6177 - val_accuracy: 0.9068\n",
      "Epoch 3/10\n",
      "1500/1500 [==============================] - 477s 318ms/step - loss: 0.5102 - accuracy: 0.9402 - val_loss: 0.5536 - val_accuracy: 0.9102\n",
      "Epoch 4/10\n",
      "1500/1500 [==============================] - 472s 315ms/step - loss: 0.4028 - accuracy: 0.9569 - val_loss: 0.5268 - val_accuracy: 0.9132\n",
      "Epoch 5/10\n",
      "1500/1500 [==============================] - 477s 318ms/step - loss: 0.3343 - accuracy: 0.9690 - val_loss: 0.5277 - val_accuracy: 0.9082\n",
      "Epoch 6/10\n",
      "1500/1500 [==============================] - 477s 318ms/step - loss: 0.2859 - accuracy: 0.9769 - val_loss: 0.5278 - val_accuracy: 0.9110\n",
      "Epoch 7/10\n",
      "1500/1500 [==============================] - 478s 319ms/step - loss: 0.2571 - accuracy: 0.9800 - val_loss: 0.5280 - val_accuracy: 0.9060\n",
      "Epoch 8/10\n",
      "1500/1500 [==============================] - 473s 315ms/step - loss: 0.2339 - accuracy: 0.9835 - val_loss: 0.5207 - val_accuracy: 0.9127\n",
      "Epoch 9/10\n",
      "1500/1500 [==============================] - 473s 315ms/step - loss: 0.2190 - accuracy: 0.9852 - val_loss: 0.5194 - val_accuracy: 0.9123\n",
      "Epoch 10/10\n",
      "1500/1500 [==============================] - 474s 316ms/step - loss: 0.2008 - accuracy: 0.9875 - val_loss: 0.5257 - val_accuracy: 0.9093\n"
     ]
    }
   ],
   "source": [
    "history=model.fit(train_data,epochs = 10,validation_data = val_data)"
   ]
  },
  {
   "cell_type": "code",
   "execution_count": 21,
   "id": "4bdd6fe6",
   "metadata": {
    "execution": {
     "iopub.execute_input": "2023-11-14T09:07:47.327607Z",
     "iopub.status.busy": "2023-11-14T09:07:47.320759Z",
     "iopub.status.idle": "2023-11-14T09:08:05.521033Z",
     "shell.execute_reply": "2023-11-14T09:08:05.520020Z"
    },
    "papermill": {
     "duration": 19.460132,
     "end_time": "2023-11-14T09:08:05.523140",
     "exception": false,
     "start_time": "2023-11-14T09:07:46.063008",
     "status": "completed"
    },
    "tags": []
   },
   "outputs": [
    {
     "name": "stdout",
     "output_type": "stream",
     "text": [
      "188/188 [==============================] - 13s 56ms/step\n",
      "Classification report\n",
      "               precision    recall  f1-score   support\n",
      "\n",
      "           0       0.89      0.93      0.91       500\n",
      "           1       0.94      0.91      0.92       500\n",
      "           2       0.98      0.95      0.96       500\n",
      "           3       0.86      0.90      0.88       500\n",
      "           4       0.93      0.95      0.94       500\n",
      "           5       0.91      0.92      0.91       500\n",
      "           6       0.89      0.95      0.92       500\n",
      "           7       0.93      0.90      0.92       500\n",
      "           8       0.96      0.88      0.92       500\n",
      "           9       0.85      0.84      0.85       500\n",
      "          10       0.91      0.89      0.90       500\n",
      "          11       0.94      0.96      0.95       500\n",
      "\n",
      "    accuracy                           0.91      6000\n",
      "   macro avg       0.92      0.91      0.91      6000\n",
      "weighted avg       0.92      0.91      0.91      6000\n",
      "\n"
     ]
    }
   ],
   "source": [
    "pred_probs = model.predict(test_data)\n",
    "pred_classes = pred_probs.argmax(axis =1)\n",
    "y_labels = []\n",
    "for image,label in test_data.unbatch():\n",
    "    y_labels.append(label.numpy().argmax())\n",
    "from sklearn.metrics import classification_report\n",
    "print(\"Classification report\\n\",classification_report(y_labels,pred_classes))"
   ]
  },
  {
   "cell_type": "code",
   "execution_count": 22,
   "id": "f4d0f48c",
   "metadata": {
    "execution": {
     "iopub.execute_input": "2023-11-14T09:08:08.064724Z",
     "iopub.status.busy": "2023-11-14T09:08:08.063921Z",
     "iopub.status.idle": "2023-11-14T09:08:08.354058Z",
     "shell.execute_reply": "2023-11-14T09:08:08.352845Z"
    },
    "papermill": {
     "duration": 1.540873,
     "end_time": "2023-11-14T09:08:08.357390",
     "exception": false,
     "start_time": "2023-11-14T09:08:06.816517",
     "status": "completed"
    },
    "tags": []
   },
   "outputs": [
    {
     "data": {
      "text/plain": [
       "[<matplotlib.lines.Line2D at 0x7d6ddc392e00>]"
      ]
     },
     "execution_count": 22,
     "metadata": {},
     "output_type": "execute_result"
    },
    {
     "data": {
      "image/png": "[encoded data removed]",
      "text/plain": [
       "<Figure size 800x800 with 1 Axes>"
      ]
     },
     "metadata": {},
     "output_type": "display_data"
    }
   ],
   "source": [
    "acc=history.history[\"accuracy\"]\n",
    "loss=history.history[\"loss\"]\n",
    "val_acc=history.history[\"val_accuracy\"]\n",
    "val_loss=history.history[\"val_loss\"]\n",
    "plt.figure(figsize=(8, 8))\n",
    "plt.subplot(2, 1, 1)\n",
    "plt.plot(acc, label='Training Accuracy')\n",
    "plt.plot(val_acc, label='Validation Accuracy')"
   ]
  },
  {
   "cell_type": "code",
   "execution_count": 23,
   "id": "51cefd36",
   "metadata": {
    "execution": {
     "iopub.execute_input": "2023-11-14T09:08:10.894868Z",
     "iopub.status.busy": "2023-11-14T09:08:10.893551Z",
     "iopub.status.idle": "2023-11-14T09:08:11.140591Z",
     "shell.execute_reply": "2023-11-14T09:08:11.139757Z"
    },
    "papermill": {
     "duration": 1.486381,
     "end_time": "2023-11-14T09:08:11.142732",
     "exception": false,
     "start_time": "2023-11-14T09:08:09.656351",
     "status": "completed"
    },
    "tags": []
   },
   "outputs": [
    {
     "data": {
      "text/plain": [
       "[<matplotlib.lines.Line2D at 0x7d6dbfc763b0>]"
      ]
     },
     "execution_count": 23,
     "metadata": {},
     "output_type": "execute_result"
    },
    {
     "data": {
      "image/png": "[encoded data removed]",
      "text/plain": [
       "<Figure size 640x480 with 1 Axes>"
      ]
     },
     "metadata": {},
     "output_type": "display_data"
    }
   ],
   "source": [
    "plt.plot(loss, label='Training Loss')\n",
    "plt.plot(val_loss, label='Validation Loss')"
   ]
  },
  {
   "cell_type": "code",
   "execution_count": 24,
   "id": "ee394157",
   "metadata": {
    "execution": {
     "iopub.execute_input": "2023-11-14T09:08:13.677324Z",
     "iopub.status.busy": "2023-11-14T09:08:13.676943Z",
     "iopub.status.idle": "2023-11-14T09:08:13.687674Z",
     "shell.execute_reply": "2023-11-14T09:08:13.686656Z"
    },
    "papermill": {
     "duration": 1.246307,
     "end_time": "2023-11-14T09:08:13.689861",
     "exception": false,
     "start_time": "2023-11-14T09:08:12.443554",
     "status": "completed"
    },
    "tags": []
   },
   "outputs": [
    {
     "name": "stdout",
     "output_type": "stream",
     "text": [
      "[[464   4   2  10   1   2   6   0   0   8   1   2]\n",
      " [  3 456   4   0   3   0  29   0   1   2   1   1]\n",
      " [  4   8 474   0   5   0   7   1   0   1   0   0]\n",
      " [ 12   0   1 449   1   6   1  18   1   5   2   4]\n",
      " [  4   2   1   1 473   1   6   0   1   5   4   2]\n",
      " [  4   0   0   6   1 460   0   3   1  14   9   2]\n",
      " [  0  12   1   0   6   0 477   0   2   2   0   0]\n",
      " [  7   1   0  28   0   7   0 451   0   4   2   0]\n",
      " [  3   1   0   5   2   2  10   4 438  20  14   1]\n",
      " [ 15   3   0  12  17   9   0   6   0 422   8   8]\n",
      " [  4   0   0   6   1  14   0   0  13  10 444   8]\n",
      " [  3   0   0   3   1   6   0   1   0   4   4 478]]\n"
     ]
    }
   ],
   "source": [
    "from sklearn.metrics import confusion_matrix\n",
    "confusion = confusion_matrix(y_labels,pred_classes\n",
    "                            )\n",
    "print(confusion)"
   ]
  },
  {
   "cell_type": "code",
   "execution_count": 25,
   "id": "a7eca20c",
   "metadata": {
    "execution": {
     "iopub.execute_input": "2023-11-14T09:08:16.225804Z",
     "iopub.status.busy": "2023-11-14T09:08:16.225032Z",
     "iopub.status.idle": "2023-11-14T09:08:16.937546Z",
     "shell.execute_reply": "2023-11-14T09:08:16.936602Z"
    },
    "papermill": {
     "duration": 1.953224,
     "end_time": "2023-11-14T09:08:16.939575",
     "exception": false,
     "start_time": "2023-11-14T09:08:14.986351",
     "status": "completed"
    },
    "tags": []
   },
   "outputs": [
    {
     "data": {
      "image/png": "[encoded data removed]",
      "text/plain": [
       "<Figure size 600x600 with 1 Axes>"
      ]
     },
     "metadata": {},
     "output_type": "display_data"
    }
   ],
   "source": [
    "import seaborn as sns\n",
    "import matplotlib.pyplot as plt\n",
    "cmap = sns.cubehelix_palette(as_cmap=True)\n",
    "plt.figure(figsize=(6, 6))\n",
    "sns.heatmap(confusion, annot=True, fmt=\"d\", cmap=cmap, cbar=False)\n",
    "plt.xlabel('Predicted')\n",
    "plt.ylabel('True')\n",
    "plt.savefig('Confusion matrix.png')"
   ]
  },
  {
   "cell_type": "code",
   "execution_count": null,
   "id": "9d7a3346",
   "metadata": {
    "papermill": {
     "duration": 1.31633,
     "end_time": "2023-11-14T09:08:19.489365",
     "exception": false,
     "start_time": "2023-11-14T09:08:18.173035",
     "status": "completed"
    },
    "tags": []
   },
   "outputs": [],
   "source": []
  }
 ],
 "metadata": {
  "kernelspec": {
   "display_name": "Python 3",
   "language": "python",
   "name": "python3"
  },
  "language_info": {
   "codemirror_mode": {
    "name": "ipython",
    "version": 3
   },
   "file_extension": ".py",
   "mimetype": "text/x-python",
   "name": "python",
   "nbconvert_exporter": "python",
   "pygments_lexer": "ipython3",
   "version": "3.10.12"
  },
  "papermill": {
   "default_parameters": {},
   "duration": 5313.348208,
   "end_time": "2023-11-14T09:08:24.351998",
   "environment_variables": {},
   "exception": null,
   "input_path": "__notebook__.ipynb",
   "output_path": "__notebook__.ipynb",
   "parameters": {},
   "start_time": "2023-11-14T07:39:51.003790",
   "version": "2.4.0"
  }
 },
 "nbformat": 4,
 "nbformat_minor": 5
}
